{
 "cells": [
  {
   "cell_type": "markdown",
   "metadata": {},
   "source": [
    "## Reading in the dataset"
   ]
  },
  {
   "cell_type": "code",
   "execution_count": 138,
   "metadata": {
    "collapsed": true
   },
   "outputs": [],
   "source": [
    "import os, sys\n",
    "import numpy as np  # linear algebra\n",
    "import pandas as pd # data processing, CSV file I/O (e.g. pd.read_csv)\n",
    "import operator\n",
    "import matplotlib.pyplot as plt\n",
    "%matplotlib inline\n",
    "plot = False\n",
    "\n",
    "assert os.path.exists('./emails.train.csv'), \"[Dataset File Not Found] Please download dataset first.\""
   ]
  },
  {
   "cell_type": "markdown",
   "metadata": {},
   "source": [
    "## Text cleaning"
   ]
  },
  {
   "cell_type": "code",
   "execution_count": 128,
   "metadata": {
    "collapsed": true
   },
   "outputs": [],
   "source": [
    "import nltk\n",
    "\n",
    "def text_regularize(dataframe, method='lemm'):\n",
    "    print('Performing: %s ...' % method)\n",
    "    def stemming(worker, tag):\n",
    "        return worker.stem(tag)\n",
    "\n",
    "    def lemmatize(worker, tag):\n",
    "        return worker.lemmatize(tag)\n",
    "\n",
    "    if   method=='stem':\n",
    "        worker = nltk.PorterStemmer()\n",
    "        func = stemming\n",
    "    elif method=='lemm':\n",
    "        worker = nltk.WordNetLemmatizer()\n",
    "        func = lemmatize\n",
    "    else:\n",
    "        raise NotImplementedError\n",
    "\n",
    "    for i, line in enumerate(dataframe['text']):\n",
    "#         haalt de woorden uit de dataframe\n",
    "        elems = line.strip().split()\n",
    "    \n",
    "        # apply stemming or lemmatize\n",
    "        newtags = [func(worker,tag.lower()) for tag in elems]\n",
    "        newline = \" \".join(newtags)\n",
    "\n",
    "        # update text\n",
    "        dataframe.loc[i,'text'] = newline\n",
    "\n",
    "    # return dataframe"
   ]
  },
  {
   "cell_type": "code",
   "execution_count": 129,
   "metadata": {
    "collapsed": false
   },
   "outputs": [
    {
     "name": "stdout",
     "output_type": "stream",
     "text": [
      "========= Clean training data ==========\n",
      "Cleaning text...\n",
      "Performing: lemm ...\n",
      "Performing: stem ...\n",
      "========= Clean testing data ==========\n",
      "Cleaning text...\n",
      "Performing: lemm ...\n",
      "Performing: stem ...\n",
      "Cleaned the data\n"
     ]
    }
   ],
   "source": [
    "def cleaning_text(dataframe):\n",
    "    print('Cleaning text...')\n",
    "    import re\n",
    "    \n",
    "    for i, line in enumerate(dataframe['text']):\n",
    "        \n",
    "        # remove special characters using regex\n",
    "        line = re.sub(r'[^\\w]', ' ', line).lower()\n",
    "        # remove numeric characters using regex\n",
    "        line = re.sub(\"(^|\\W)\\d+($|\\W)\", \" \", line)\n",
    "           \n",
    "        # remove words of two characters or less\n",
    "        words = line.split()\n",
    "        resultwords = []\n",
    "        \n",
    "        for word in words:\n",
    "            word = word.lower()\n",
    "            if len(word) > 2:\n",
    "                resultwords.append(word)\n",
    "                \n",
    "        newline = ' '.join(resultwords)\n",
    "\n",
    "        dataframe.loc[i, 'text'] = newline\n",
    "\n",
    "    return dataframe\n",
    "        \n",
    "print('========= Clean training data ==========')\n",
    "# Read in training data\n",
    "df = pd.read_csv('./emails.train.csv')\n",
    "\n",
    "# Do cleaning\n",
    "cleaning_text(df)\n",
    "text_regularize(df, 'lemm')\n",
    "text_regularize(df, 'stem')\n",
    "\n",
    "# Save as new file\n",
    "df.to_csv('emails_clean.train.csv')\n",
    "\n",
    "print('========= Clean testing data ==========')\n",
    "# Read in testing data\n",
    "df = pd.read_csv('./emails.test.csv')\n",
    "\n",
    "# Do cleaning\n",
    "df = cleaning_text(df)\n",
    "text_regularize(df, 'lemm')\n",
    "text_regularize(df, 'stem')\n",
    "\n",
    "# Save as new file\n",
    "df.to_csv('emails_clean.test.csv')\n",
    "\n",
    "print('Cleaned the data')"
   ]
  },
  {
   "cell_type": "markdown",
   "metadata": {},
   "source": [
    "## Retrieve word frequency"
   ]
  },
  {
   "cell_type": "code",
   "execution_count": 130,
   "metadata": {
    "collapsed": true
   },
   "outputs": [],
   "source": [
    "\n",
    "# get word frequency data for both train data\n",
    "def word_frequency_train(dataframe):\n",
    "    # for w in dataframe.str.lower():\n",
    "#     create a dataframe of all words\n",
    "    \n",
    "    datasetwords = {}\n",
    "    \n",
    "    for line in dataframe[\"text\"]:\n",
    "        words = line.split()\n",
    "        for word in words:\n",
    "            if word in datasetwords:\n",
    "                datasetwords[word] += 1\n",
    "            else:\n",
    "                datasetwords[word] = 1\n",
    "    \n",
    "    return datasetwords\n",
    "\n",
    "# get word frequency data for mails\n",
    "def word_frequency_mail(mail):\n",
    "    words = mail.split()\n",
    "    datasetwords = {}\n",
    "    for word in words:\n",
    "        if word in datasetwords:\n",
    "            datasetwords[word] += 1\n",
    "        else:\n",
    "            datasetwords[word] = 1\n",
    "    \n",
    "    return datasetwords\n",
    "\n",
    "    "
   ]
  },
  {
   "cell_type": "markdown",
   "metadata": {},
   "source": [
    "# Naive Bayesian"
   ]
  },
  {
   "cell_type": "code",
   "execution_count": 131,
   "metadata": {
    "collapsed": true
   },
   "outputs": [],
   "source": [
    "# freqsword = frequency word in spam, freqhword is frequency word in ham\n",
    "def NaiveBayesian(probspam,freqsword,freqhword,totalfreqs,totalfreqh):\n",
    "    \n",
    "#   probability of a mail being ham \n",
    "    probham = 1-probspam\n",
    "    \n",
    "#   calculate probability of word being in spam or word being in spam\n",
    "    probwordspam = float(freqsword)/(totalfreqs)\n",
    "    probwordham = float(freqhword)/(totalfreqh)\n",
    "    bayes = (float(probwordspam*probspam)/(probwordspam*probspam + probwordham*probham))\n",
    "\n",
    "\n",
    "#       equation for correcting the probability where s =3 means that meaning that the learned dictionary\n",
    "#       must contain more than 3 messages with the word\n",
    "    s = 3\n",
    "    correctedbayes = float(s*probspam+freqsword*bayes)/(s+freqsword)\n",
    "    \n",
    "#   if the spamicity of the word is around 0.5 return none since the probability of the word being ham or spam\n",
    "#   is too similar so we evaluate only spammicities of <=0.2 and >= 0.8\n",
    "    \n",
    "    if correctedbayes >= 0.8 or bayes <=0.2:\n",
    "        return correctedbayes\n",
    "\n",
    "    else:\n",
    "        return None\n"
   ]
  },
  {
   "cell_type": "code",
   "execution_count": 132,
   "metadata": {
    "collapsed": true
   },
   "outputs": [],
   "source": [
    "\n",
    "# Here we call our Naive Bayesian performer with the data we read in from train and test and check\n",
    "# if the test mail is spam or not\n",
    "def CallBae(freqspam,freqham,mail,probspam,totalfreqs,totalfreqh):\n",
    "    spamchecklist = []\n",
    "    \n",
    "    for word in mail:\n",
    "    \n",
    "#     if word in spam and ham check its frequency and perform the Bayesian as many times as needed\n",
    "        if word in freqspam and word in freqham:\n",
    "            for i in range(mail[word]):\n",
    "                freqsword = freqspam[word]\n",
    "                freqhword = freqham[word]\n",
    "                spamchecklist.append(NaiveBayesian(probspam,freqsword,freqhword,totalfreqs,totalfreqh))\n",
    "\n",
    "    #   if the word is in neither spam or ham we continue the word iteration\n",
    "        elif word not in freqspam and word not in freqham:\n",
    "            continue\n",
    "\n",
    "    #  we initialize freqsword as a tiny number here cause else the Bayesian would not be able to pick up that \n",
    "    #  the word is in ham if the word never appears in spam but does appear in ham\n",
    "        elif word in freqham and word not in freqspam:\n",
    "            for i in range(mail[word]):\n",
    "                freqsword = 10**(-8)\n",
    "                freqhword = freqham[word]\n",
    "                spamchecklist.append(NaiveBayesian(probspam,freqsword,freqhword,totalfreqs,totalfreqh))\n",
    "\n",
    "            \n",
    "#   Clean up the spamchecklist\n",
    "    spamchecklist = np.array(spamchecklist)\n",
    "    spamchecklist = spamchecklist[spamchecklist != np.array(None)]\n",
    "       \n",
    "#   Count all probabilities in spamchecklist and calculate the overal probability of the mail being spam or ham\n",
    "    multiplicationsum = np.prod(spamchecklist)\n",
    "    ones = np.ones(spamchecklist.shape)\n",
    "    pminusonesum = np.prod(ones-spamchecklist)\n",
    "    \n",
    "#   Make sure we won't have conflicts with machine precision for if the mail is almost certainly spam we get very\n",
    "#   small numbers which add to 0 under machine precision\n",
    "    if pminusonesum + multiplicationsum ==0:\n",
    "        finaljudge = 1\n",
    "    else:   \n",
    "        finaljudge = multiplicationsum/(multiplicationsum+pminusonesum)\n",
    "            \n",
    "#   Return False if spam\n",
    "    if finaljudge > 0.5:\n",
    "        return True\n",
    "#   Return True if ham\n",
    "    if finaljudge < 0.5:\n",
    "        return False"
   ]
  },
  {
   "cell_type": "code",
   "execution_count": 133,
   "metadata": {
    "collapsed": false
   },
   "outputs": [],
   "source": [
    "# Takes as input frequency table of spam words, frequency table of ham words,the mail we have to check,\n",
    "# probability mail is spam, total frequency of words in spam and total frequency of words  in  ham\n",
    "def Classifier(freqspam,freqham,test,probspam,totalfreqs,totalfreqh,train):\n",
    "    iddict = {}\n",
    "    spamdict = {}\n",
    "    idlist = []\n",
    "    spamlist = [] \n",
    "    \n",
    "# loop through all the mails in the test and perform naive bayesian and add id number to the list\n",
    "    for i in range(len(test)):\n",
    "        idlist.append(test['id'][i])\n",
    "        mail = test['text'][i]        \n",
    "        mail = word_frequency_mail(mail)\n",
    "    \n",
    "#         if we get True from CallBae mail is spam and we add it to the spam dictionary\n",
    "        if CallBae(freqspam,freqham,mail,probspam,totalfreqs,totalfreqh):\n",
    "            spamlist.append(1)\n",
    "\n",
    "            freqspam = combine_dicts(freqspam,mail)\n",
    "            totalfreqs = sum(freqspam.values())      \n",
    "    \n",
    "#             If we get False from Callbae mail is added to ham dictionary and defined as ham\n",
    "        else:\n",
    "            spamlist.append(0)\n",
    "            freqham = combine_dicts(freqham,mail)\n",
    "            totalfreqh = sum(freqham.values())\n",
    "                   \n",
    "    \n",
    "#   create our submission with per id the indicator whether the mail is spam or not (1 or 0)\n",
    "    spamdict['spam'] = spamlist\n",
    "    iddict['id'] = idlist\n",
    "    spamdict = pd.DataFrame(dict([(k,pd.Series(v)) for k,v in spamdict.items()]))\n",
    "    iddict = pd.DataFrame(dict([(k,pd.Series(v)) for k,v in iddict.items()]))\n",
    "    submission = pd.concat([iddict,spamdict],axis = 1)\n",
    "    submission.set_index('id',inplace=True)\n",
    "#   if we are not plotting save the submission file\n",
    "    if not plot:\n",
    "        submission.to_csv('submission.csv')\n",
    "    return submission,idlist\n",
    "\n"
   ]
  },
  {
   "cell_type": "code",
   "execution_count": 134,
   "metadata": {
    "collapsed": true
   },
   "outputs": [],
   "source": [
    "# function for combining dictionaries\n",
    "def combine_dicts(a, b, op=operator.add):\n",
    "    return dict(a.items() + b.items() +[(k, op(a[k], b[k])) for k in set(b) & set(a)])"
   ]
  },
  {
   "cell_type": "code",
   "execution_count": 139,
   "metadata": {
    "collapsed": false,
    "scrolled": true
   },
   "outputs": [],
   "source": [
    "# intialize initials\n",
    "train = pd.read_csv('./emails_clean.train.csv')\n",
    "test  = pd.read_csv('./emails_clean.test.csv')\n",
    "hamdata = train[train.spam == 0]\n",
    "spamdata = train[train.spam == 1]\n",
    "# here we make our word dictionaries\n",
    "freqham = word_frequency_train(hamdata)\n",
    "freqspam = word_frequency_train(spamdata)\n",
    "totalfreqs = sum(freqspam.values())\n",
    "totalfreqh = sum(freqham.values())\n",
    "\n",
    "# CALL FUNCTIONS AND EVALUATE USING MEAN CONSEQUENTIAL EVALUATER\n",
    "\n",
    "# if we are plotting save the results as a list\n",
    "if plot:\n",
    "    MCE = []\n",
    "    for j in np.arange(0.05,1,0.05):\n",
    "        probspam = j\n",
    "        submission,idlist = Classifier(freqspam,freqham,test,probspam,totalfreqs,totalfreqh,train)\n",
    "        ms = 0\n",
    "\n",
    "        for i in idlist:\n",
    "            try:      \n",
    "                if test.loc[test['id'] == i, 'spam'].iloc[0] != submission[\"spam\"][i]:\n",
    "                    ms +=1\n",
    "            except:\n",
    "                continue\n",
    "\n",
    "        MCE.append(1./submission.shape[0]*ms)\n",
    "\n",
    "#  if we  are not plotting print out the result\n",
    "else:\n",
    "    probspam = 0.5\n",
    "    submission,idlist = Classifier(freqspam,freqham,test,probspam,totalfreqs,totalfreqh,train)\n",
    "    ms = 0\n",
    "    for i in idlist:\n",
    "        try:      \n",
    "            if test.loc[test['id'] == i, 'spam'].iloc[0] != submission[\"spam\"][i]:\n",
    "                ms +=1\n",
    "        except:\n",
    "            continue\n",
    "\n",
    "    MCEbay = (1./submission.shape[0]*ms)\n",
    "\n",
    "    print \"The Naive Bayesian has a ratio of: %0.3f\" %(1-MCEbay) + \" correct mails\""
   ]
  },
  {
   "cell_type": "markdown",
   "metadata": {},
   "source": [
    "## Plotting"
   ]
  },
  {
   "cell_type": "code",
   "execution_count": 140,
   "metadata": {
    "collapsed": false
   },
   "outputs": [
    {
     "data": {
      "image/png": "[encoded data removed]",
      "text/plain": [
       "<matplotlib.figure.Figure at 0x2afe47284250>"
      ]
     },
     "metadata": {},
     "output_type": "display_data"
    }
   ],
   "source": [
    "#  Plot the figure\n",
    "if plot:\n",
    "    plt.figure(figsize=(20,10))\n",
    "    x = np.arange(0.05,1,0.05)\n",
    "    plt.plot(x,MCE, label = \"MCE Bayes\")\n",
    "    plt.title(\"Naive Bayesian\")\n",
    "    plt.ylabel(\"MCE (Mean consequential Error)\")\n",
    "    plt.xlabel(\"Probability of mail being Spam\")\n",
    "    plt.axvline(x[np.argmin(MCE)], linestyle='--',color=\"r\",label=\"Best score Prob: %0.2f\" %x[np.argmin(MCE)])\n",
    "    plt.xticks(x)\n",
    "\n",
    "    plt.legend(loc='lower right')\n",
    "    plt.savefig(\"NB\")\n",
    "    plt.show()\n"
   ]
  },
  {
   "cell_type": "markdown",
   "metadata": {
    "collapsed": true
   },
   "source": [
    "# SVM method"
   ]
  },
  {
   "cell_type": "code",
   "execution_count": 22,
   "metadata": {
    "collapsed": true
   },
   "outputs": [],
   "source": [
    "# Read in csv file as dataframe\n",
    "df = pd.read_csv('./emails_clean.train.csv')"
   ]
  },
  {
   "cell_type": "code",
   "execution_count": 23,
   "metadata": {
    "collapsed": false
   },
   "outputs": [],
   "source": [
    "def select_vocabulary(dataframe):\n",
    "    # for w in dataframe.str.lower():\n",
    "    word2freq = dict()\n",
    "    for line in dataframe:\n",
    "        words = line.split()\n",
    "#       met setdefault fixed ie de value in de dict op 0 tenzij er iets te tellen valt dan +1\n",
    "        for word in words:\n",
    "            word2freq[word] = word2freq.setdefault(word, 0) +1\n",
    "\n",
    "    word_freq = [ (word,freq) for word,freq in word2freq.items() ]\n",
    "    \n",
    "    # sort according to freq, in descending order.\n",
    "    word_freq.sort(key=lambda x:x[1], reverse=True) \n",
    "    \n",
    "#     returned top all words\n",
    "    return([x[0] for x in word_freq[:]])\n",
    "\n",
    "vocabulary = select_vocabulary(df['text'])\n",
    "word2ind   = dict(zip(vocabulary, range(len(vocabulary))))\n"
   ]
  },
  {
   "cell_type": "code",
   "execution_count": 24,
   "metadata": {
    "collapsed": false
   },
   "outputs": [],
   "source": [
    "\n",
    "# Extract bag of words as a word vector\n",
    "def extract_Bag_of_Word_feature(dataframe):\n",
    "    BoWs = np.zeros((len(dataframe), len(vocabulary)), dtype=np.float32)\n",
    "\n",
    "    for i, line in enumerate(dataframe):\n",
    "        for word in line.split():\n",
    "            word_ind = word2ind.get(word, -1)\n",
    "            if(word_ind>=0):\n",
    "                BoWs[i, word_ind] += 1\n",
    "\n",
    "            \n",
    "    return BoWs\n",
    "\n",
    "\n",
    "# Use cleaned data\n",
    "train = pd.read_csv('./emails_clean.train.csv')\n",
    "test  = pd.read_csv('./emails_clean.test.csv')\n",
    "\n",
    "# Get labels\n",
    "Y_train = train['spam']\n",
    "Y_test  = test['spam']\n"
   ]
  },
  {
   "cell_type": "code",
   "execution_count": 25,
   "metadata": {
    "collapsed": false
   },
   "outputs": [],
   "source": [
    "# use sklean SVM method (Support Vector Machine)\n",
    "\n",
    "from sklearn.metrics import average_precision_score, accuracy_score\n",
    "from sklearn.svm import SVC\n",
    "\n",
    "model = SVC()\n",
    "\n",
    "model.fit(X_train, Y_train)\n",
    "\n",
    "def eval(model, X_test, Y_test, method=''):\n",
    "    \n",
    "    # Predict decision labels.\n",
    "    Y_pred  = model.predict(X_test)  \n",
    "\n",
    "    # Predict confidence scores.\n",
    "    Y_score = model.decision_function(X_test)    \n",
    "\n",
    "    # write to submit format\n",
    "    outf = 'kaggle_data/solution.%s.csv'% method\n",
    "    with open( outf, 'w') as f:\n",
    "        f.write('id,spam\\n')\n",
    "        for i in range(len(Y_pred)):\n",
    "            # print test['id'][0]\n",
    "            f.write('%s,%s\\n' % (test['id'][i], Y_pred[i]) )\n",
    "    \n",
    "# evaluate current model\n",
    "eval(model, X_test, Y_test, method='SVM')"
   ]
  },
  {
   "cell_type": "code",
   "execution_count": 115,
   "metadata": {
    "collapsed": false
   },
   "outputs": [],
   "source": [
    "# use MCE to evaluate output of SVM\n",
    "ms = 0\n",
    "svm = pd.read_csv('kaggle_data/solution.SVM.csv')\n",
    "for i in range(len(test)):\n",
    "    try:      \n",
    "        if test.loc[test['id'] == i, 'spam'].iloc[0] != svm.loc[svm['id'] == i, 'spam'].iloc[0]:\n",
    "            ms +=1\n",
    "    except:\n",
    "        continue\n",
    "\n",
    "MCEsvm = (1./submission.shape[0]*ms)\n"
   ]
  },
  {
   "cell_type": "markdown",
   "metadata": {},
   "source": [
    "# Comparison"
   ]
  },
  {
   "cell_type": "code",
   "execution_count": 116,
   "metadata": {
    "collapsed": false
   },
   "outputs": [
    {
     "name": "stdout",
     "output_type": "stream",
     "text": [
      "The Support Vector Machine method has a ratio of 0.864 spam mails correct\n",
      "The Naive Bayesian has a ratio of 0.978 spam mails correct\n"
     ]
    }
   ],
   "source": [
    "if not plot:\n",
    "    print \"The Support Vector Machine method has a ratio of %0.3f\" %(1 - MCEsvm) +\" spam mails correct\"\n",
    "    print \"The Naive Bayesian has a ratio of %0.3f\" %(1 - MCEbay) + \" spam mails correct\"\n",
    "else:\n",
    "    print \"Please first put the Naive Bayesian on plot == False\""
   ]
  },
  {
   "cell_type": "code",
   "execution_count": null,
   "metadata": {
    "collapsed": true
   },
   "outputs": [],
   "source": []
  }
 ],
 "metadata": {
  "kernelspec": {
   "display_name": "Python [Root]",
   "language": "python",
   "name": "Python [Root]"
  },
  "language_info": {
   "codemirror_mode": {
    "name": "ipython",
    "version": 2
   },
   "file_extension": ".py",
   "mimetype": "text/x-python",
   "name": "python",
   "nbconvert_exporter": "python",
   "pygments_lexer": "ipython2",
   "version": "2.7.12"
  }
 },
 "nbformat": 4,
 "nbformat_minor": 2
}
