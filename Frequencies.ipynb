{
 "cells": [
  {
   "cell_type": "code",
   "execution_count": 4,
   "metadata": {},
   "outputs": [
    {
     "name": "stdout",
     "output_type": "stream",
     "text": [
      "[TODO] Preparing text feature.\n",
      "('trade', 822)\n",
      "('trade', 160)\n",
      "('trade', 982)\n"
     ]
    },
    {
     "ename": "NameError",
     "evalue": "name 'preprocesseddata' is not defined",
     "output_type": "error",
     "traceback": [
      "\u001b[1;31m---------------------------------------------------------------------------\u001b[0m",
      "\u001b[1;31mNameError\u001b[0m                                 Traceback (most recent call last)",
      "\u001b[1;32m<ipython-input-4-676bcf054249>\u001b[0m in \u001b[0;36m<module>\u001b[1;34m()\u001b[0m\n\u001b[0;32m     42\u001b[0m \u001b[1;33m\u001b[0m\u001b[0m\n\u001b[0;32m     43\u001b[0m \u001b[1;33m\u001b[0m\u001b[0m\n\u001b[1;32m---> 44\u001b[1;33m \u001b[0mdatafuns\u001b[0m \u001b[1;33m=\u001b[0m \u001b[0mfrequencies\u001b[0m\u001b[1;33m(\u001b[0m\u001b[0mtrain\u001b[0m\u001b[1;33m,\u001b[0m \u001b[0mtest\u001b[0m\u001b[1;33m)\u001b[0m\u001b[1;33m\u001b[0m\u001b[0m\n\u001b[0m\u001b[0;32m     45\u001b[0m \u001b[1;31m#############################\u001b[0m\u001b[1;33m\u001b[0m\u001b[1;33m\u001b[0m\u001b[0m\n\u001b[0;32m     46\u001b[0m \u001b[1;33m\u001b[0m\u001b[0m\n",
      "\u001b[1;32m<ipython-input-4-676bcf054249>\u001b[0m in \u001b[0;36mfrequencies\u001b[1;34m(train, test)\u001b[0m\n\u001b[0;32m     38\u001b[0m \u001b[1;33m\u001b[0m\u001b[0m\n\u001b[0;32m     39\u001b[0m \u001b[1;33m\u001b[0m\u001b[0m\n\u001b[1;32m---> 40\u001b[1;33m     \u001b[1;32mreturn\u001b[0m \u001b[0mpreprocesseddata\u001b[0m\u001b[1;33m\u001b[0m\u001b[0m\n\u001b[0m\u001b[0;32m     41\u001b[0m \u001b[1;33m\u001b[0m\u001b[0m\n\u001b[0;32m     42\u001b[0m \u001b[1;33m\u001b[0m\u001b[0m\n",
      "\u001b[1;31mNameError\u001b[0m: name 'preprocesseddata' is not defined"
     ]
    }
   ],
   "source": [
    "import os, sys\n",
    "import numpy as np  # linear algebra\n",
    "import pandas as pd # data processing, CSV file I/O (e.g. pd.read_csv)\n",
    "\n",
    "assert os.path.exists('./emails.train.csv'), \"[Dataset File Not Found] Please download dataset first.\"\n",
    "\n",
    "train = pd.read_csv('./emails_clean.train.csv')\n",
    "test  = pd.read_csv('./emails_clean.test.csv')\n",
    "\n",
    "# Get labels\n",
    "Y_train = train['spam']\n",
    "Y_test  = test['spam']\n",
    "\n",
    "print(\"[TODO] Preparing text feature.\")\n",
    "def frequencies(train, test):\n",
    "\n",
    "#     split dataset into ham and spam emails\n",
    "    hamdata = train[train.spam == 0]\n",
    "    spamdata = train[train.spam == 1]\n",
    "      \n",
    "# get words in test data\n",
    "    wordstest = dict()\n",
    "    for line in test['text']:\n",
    "        words = line.split()\n",
    "        for word in words:\n",
    "            wordstest[word] = wordstest.setdefault(word, 0)\n",
    "    \n",
    "    frequencyham = word_frequency(hamdata['text'], wordstest)\n",
    "    print(frequencyham[1])\n",
    "    frequencyspam = word_frequency(spamdata['text'], wordstest)\n",
    "    print(frequencyspam[1])\n",
    "    frequency = word_frequency(train['text'], wordstest)\n",
    "    print(frequency[1]) \n",
    "    \n",
    "#     for line in hamdata['text']:\n",
    "#         mail = line\n",
    "#         frequencymail = word_frequency_mail(mail, wordstest)\n",
    "        \n",
    "        \n",
    "    return preprocesseddata\n",
    "\n",
    "    \n",
    "\n",
    "datafuns = frequencies(train, test)\n",
    "#############################\n",
    "\n",
    "\n",
    "print(\"[TODO] Training your model.\")\n",
    "#############################\n",
    "\n",
    "def training(data):\n",
    "\n",
    "    return traineddata\n",
    "    \n",
    "traineddata = training(preprocesseddata)\n",
    "#############################\n",
    "\n",
    "\n",
    "\n",
    "print(\"[TODO] Evaluate your model.\")\n",
    "#############################\n",
    "\n",
    "\n",
    "def evaluatemodel(data):\n",
    "    \n",
    "    \n",
    "    return evaluation\n",
    "\n",
    "evaluation = evaluatemodel(traineddata)"
   ]
  },
  {
   "cell_type": "code",
   "execution_count": 2,
   "metadata": {
    "collapsed": true
   },
   "outputs": [],
   "source": [
    "def word_frequency_mail(mail):\n",
    "    words = dict()\n",
    "    for word in mail:\n",
    "        words[word] = words.setdefault(word, 0) + 1\n",
    "            \n",
    "    word_freq = [(word,freq) for word,freq in words.items()]\n",
    "    return word_freq"
   ]
  },
  {
   "cell_type": "code",
   "execution_count": 3,
   "metadata": {
    "collapsed": true
   },
   "outputs": [],
   "source": [
    "def word_frequency(dataframe, dataset):\n",
    "    # for w in dataframe.str.lower():\n",
    "#     create a dataframe of all words\n",
    "    \n",
    "    datasetwords = dict.copy(dataset)\n",
    "    \n",
    "    for line in dataframe:\n",
    "        words = line.split()\n",
    "        for word in words:\n",
    "            if word in datasetwords:\n",
    "                datasetwords[word] += 1\n",
    "    \n",
    "    word_freq = [(word,freq) for word,freq in datasetwords.items()]\n",
    "    return word_freq"
   ]
  },
  {
   "cell_type": "code",
   "execution_count": null,
   "metadata": {
    "collapsed": true
   },
   "outputs": [],
   "source": [
    "import os, sys\n",
    "import numpy as np  # linear algebra\n",
    "import pandas as pd # data processing, CSV file I/O (e.g. pd.read_csv)\n",
    "\n",
    "assert os.path.exists('./emails.train.csv'), \"[Dataset File Not Found] Please download dataset first.\"\n",
    "\n",
    "train = pd.read_csv('./emails_clean.train.csv')\n",
    "test  = pd.read_csv('./emails_clean.test.csv')\n",
    "\n",
    "# Get labels\n",
    "Y_train = train['spam']\n",
    "Y_test  = test['spam']\n",
    "\n",
    "def get_word_frequency_train(train):    \n",
    "#     split dataset into ham and spam emails\n",
    "    hamdata = train[train.spam == 0]\n",
    "    spamdata = train[train.spam == 1]\n",
    " \n",
    "    # get words in test data\n",
    "    wordstest = dict()\n",
    "    for line in test['text']:\n",
    "        words = line.split()\n",
    "        for word in words:\n",
    "            wordstest[word] = wordstest.setdefault(word, 0)\n",
    "    \n",
    "    frequencyham = word_frequency(hamdata['text'], wordstest)\n",
    "    frequencyspam = word_frequency(spamdata['text'], wordstest)\n",
    "    frequency = word_frequency(train['text'], wordstest)\n",
    "    "
   ]
  }
 ],
 "metadata": {
  "kernelspec": {
   "display_name": "Python 3",
   "language": "python",
   "name": "python3"
  },
  "language_info": {
   "codemirror_mode": {
    "name": "ipython",
    "version": 3
   },
   "file_extension": ".py",
   "mimetype": "text/x-python",
   "name": "python",
   "nbconvert_exporter": "python",
   "pygments_lexer": "ipython3",
   "version": "3.6.3"
  }
 },
 "nbformat": 4,
 "nbformat_minor": 2
}
