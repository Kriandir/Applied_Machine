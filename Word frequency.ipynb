{
 "cells": [
  {
   "cell_type": "code",
   "execution_count": 1,
   "metadata": {
    "collapsed": true
   },
   "outputs": [],
   "source": [
    "def word_frequency(dataframe, dataset):\n",
    "    # for w in dataframe.str.lower():\n",
    "#     create a dataframe of all words\n",
    "    \n",
    "    datasetwords = dict.copy(dataset)\n",
    "    \n",
    "    for line in dataframe:\n",
    "        words = line.split()\n",
    "        for word in words:\n",
    "            if word in datasetwords:\n",
    "                datasetwords[word] += 1\n",
    "    \n",
    "    word_freq = [(word,freq) for word,freq in datasetwords.items()]\n",
    "    return word_freq       "
   ]
  },
  {
   "cell_type": "code",
   "execution_count": 34,
   "metadata": {
    "collapsed": false
   },
   "outputs": [
    {
     "name": "stdout",
     "output_type": "stream",
     "text": [
      "[TODO] Preparing text feature.\n",
      "('electrabel', 5)\n",
      "('electrabel', 0)\n",
      "('electrabel', 5)\n",
      "hoi\n",
      "0\n",
      "[TODO] Training your model.\n"
     ]
    },
    {
     "ename": "NameError",
     "evalue": "name 'preprocesseddata' is not defined",
     "output_type": "error",
     "traceback": [
      "\u001b[1;31m---------------------------------------------------------------------------\u001b[0m",
      "\u001b[1;31mNameError\u001b[0m                                 Traceback (most recent call last)",
      "\u001b[1;32m<ipython-input-34-4d46a801b882>\u001b[0m in \u001b[0;36m<module>\u001b[1;34m()\u001b[0m\n\u001b[0;32m     48\u001b[0m     \u001b[1;32mreturn\u001b[0m \u001b[0mtraineddata\u001b[0m\u001b[1;33m\u001b[0m\u001b[0m\n\u001b[0;32m     49\u001b[0m \u001b[1;33m\u001b[0m\u001b[0m\n\u001b[1;32m---> 50\u001b[1;33m \u001b[0mtraineddata\u001b[0m \u001b[1;33m=\u001b[0m \u001b[0mtraining\u001b[0m\u001b[1;33m(\u001b[0m\u001b[0mpreprocesseddata\u001b[0m\u001b[1;33m)\u001b[0m\u001b[1;33m\u001b[0m\u001b[0m\n\u001b[0m\u001b[0;32m     51\u001b[0m \u001b[1;31m#############################\u001b[0m\u001b[1;33m\u001b[0m\u001b[1;33m\u001b[0m\u001b[0m\n\u001b[0;32m     52\u001b[0m \u001b[1;33m\u001b[0m\u001b[0m\n",
      "\u001b[1;31mNameError\u001b[0m: name 'preprocesseddata' is not defined"
     ]
    }
   ],
   "source": [
    "import os, sys\n",
    "import numpy as np  # linear algebra\n",
    "import pandas as pd # data processing, CSV file I/O (e.g. pd.read_csv)\n",
    "\n",
    "assert os.path.exists('./emails.train.csv'), \"[Dataset File Not Found] Please download dataset first.\"\n",
    "\n",
    "train = pd.read_csv('./emails_clean.train.csv')\n",
    "test  = pd.read_csv('./emails_clean.test.csv')\n",
    "\n",
    "# Get labels\n",
    "Y_train = train['spam']\n",
    "Y_test  = test['spam']\n",
    "\n",
    "print(\"[TODO] Preparing text feature.\")\n",
    "def frequencies(train, test):\n",
    "\n",
    "#     split dataset into ham and spam emails\n",
    "    hamdata = train[train.spam == 0]\n",
    "    spamdata = train[train.spam == 1]\n",
    "      \n",
    "# get words in test data\n",
    "    wordstest = dict()\n",
    "    for line in test['text']:\n",
    "        words = line.split()\n",
    "        for word in words:\n",
    "            wordstest[word] = wordstest.setdefault(word, 0)\n",
    "\n",
    "    frequencyham = word_frequency(hamdata['text'], wordstest)\n",
    "    print frequencyham[1]\n",
    "    frequencyspam = word_frequency(spamdata['text'], wordstest)\n",
    "    print(frequencyspam[1])\n",
    "    frequency = word_frequency(train['text'], wordstest)\n",
    "    print(frequency[1])    \n",
    "        \n",
    "    return preprocesseddata\n",
    "\n",
    "datafuns = frequencies(train, test)\n",
    "\n",
    "#############################\n",
    "\n",
    "\n",
    "print(\"[TODO] Training your model.\")\n",
    "#############################\n",
    "\n",
    "def training(data):\n",
    "\n",
    "    return traineddata\n",
    "    \n",
    "traineddata = training(preprocesseddata)\n",
    "#############################\n",
    "\n",
    "\n",
    "\n",
    "print(\"[TODO] Evaluate your model.\")\n",
    "#############################\n",
    "\n",
    "\n",
    "def evaluatemodel(data):\n",
    "    \n",
    "    \n",
    "    return evaluation\n",
    "\n",
    "evaluation = evaluatemodel(traineddata)"
   ]
  },
  {
   "cell_type": "code",
   "execution_count": null,
   "metadata": {
    "collapsed": true
   },
   "outputs": [],
   "source": []
  }
 ],
 "metadata": {
  "kernelspec": {
   "display_name": "Python [Root]",
   "language": "python",
   "name": "Python [Root]"
  },
  "language_info": {
   "codemirror_mode": {
    "name": "ipython",
    "version": 2
   },
   "file_extension": ".py",
   "mimetype": "text/x-python",
   "name": "python",
   "nbconvert_exporter": "python",
   "pygments_lexer": "ipython2",
   "version": "2.7.12"
  }
 },
 "nbformat": 4,
 "nbformat_minor": 2
}
